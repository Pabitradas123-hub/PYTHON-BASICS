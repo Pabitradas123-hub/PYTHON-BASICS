{
  "nbformat": 4,
  "nbformat_minor": 0,
  "metadata": {
    "colab": {
      "provenance": []
    },
    "kernelspec": {
      "name": "python3",
      "display_name": "Python 3"
    },
    "language_info": {
      "name": "python"
    }
  },
  "cells": [
    {
      "cell_type": "code",
      "execution_count": null,
      "metadata": {
        "id": "JBbI4UqTGJ38"
      },
      "outputs": [],
      "source": []
    },
    {
      "cell_type": "markdown",
      "source": [
        "# PYTHON BASIC\n"
      ],
      "metadata": {
        "id": "g8bIeIe0GWcU"
      }
    },
    {
      "cell_type": "markdown",
      "source": [
        "1.Explain the key features of Python that make it a popular choice for programming?\n",
        "\n",
        "---> Key features of Python are:\n",
        "\n",
        "1. Simple and Readable Syntax\n",
        "2. High-Level Language\n",
        "3. Extensive Standard Library\n",
        "4. Interpreted Language\n",
        "\n",
        "\n",
        "\n",
        "\n"
      ],
      "metadata": {
        "id": "YROBZtUzGlrQ"
      }
    },
    {
      "cell_type": "markdown",
      "source": [
        "2.Describe the role of predefined keywords in Python and provide examples of how they are used in a\n",
        " program?\n",
        "\n",
        "--> Predefined keywords in Python are reserved words that have special meaning to the Python interpreter. They form the core syntax of the language and cannot be used as identifiers(like variable or function names)because they define the structure and flow of a Python program.\n",
        "\n",
        "* Role of Predefined Keywords in Python\n",
        "1.Control Flow – Manage the flow of the program (e.g., if, else, while, for).\n",
        "2.Data Handling – Work with values and data types (e.g., True, False, None).\n",
        "3.Function and Class Definition – Define reusable blocks (e.g., def, class, return).\n",
        "4.Exception Handling – Handle errors (e.g., try, except, finally, raise).\n",
        "5.Variable Scope – Control scope and namespace (e.g., global, nonlocal).\n",
        "6.Logical Operations – Perform boolean logic (e.g., and, or, not, in, is).\n",
        "\n",
        "\n",
        "\n",
        "\n"
      ],
      "metadata": {
        "id": "q_u5i4kPJiq4"
      }
    },
    {
      "cell_type": "markdown",
      "source": [
        "3.Compare and contrast mutable and immutable objects in Python with examples.?\n",
        "\n",
        "-->In Python, mutable objects can be modified after creation, while immutable objects cannot. Lists and dictionaries are mutable, while strings and tuples are immutable. Changes to mutable objects modify the object itself, whereas changes to immutable objects create new objects.\n",
        "\n"
      ],
      "metadata": {
        "id": "W4YjQZRzJqko"
      }
    },
    {
      "cell_type": "code",
      "source": [
        "# Mutable object (list)\n",
        "my_list = [1, 2, 3]\n",
        "my_list.append(4)\n",
        "print(my_list)\n",
        "# Output: [1, 2, 3, 4] (The list itself is modified)\n",
        "\n",
        "# Immutable object (string)\n",
        "my_string = \"hello\"\n",
        "new_string = my_string + \" world\"  # This creates a new string\n",
        "print(my_string)\n",
        "# Output: hello (my_string remains unchanged)\n",
        "print(new_string)\n",
        "# Output: hello world (new_string is the new object)"
      ],
      "metadata": {
        "colab": {
          "base_uri": "https://localhost:8080/"
        },
        "id": "fOqKWK0fwTWV",
        "outputId": "f20298fc-220b-4242-f3f3-8e55f6c7f32e"
      },
      "execution_count": 2,
      "outputs": [
        {
          "output_type": "stream",
          "name": "stdout",
          "text": [
            "[1, 2, 3, 4]\n",
            "hello\n",
            "hello world\n"
          ]
        }
      ]
    },
    {
      "cell_type": "markdown",
      "source": [
        "4.Discuss the different types of operators in Python and provide examples of how they are used.?\n",
        "\n",
        "-->Python language supports various types of operators, which are:\n",
        "1. Arithmetic Operators:-\n",
        "x + y   # Addition\n",
        "x - y   # Subtraction\n",
        "x * y   # Multiplication\n",
        "x / y   # Division\n",
        "x % y   # Modulus\n",
        "x ** y  # Exponentiation\n",
        "x // y  # Floor Division\n",
        "\n",
        "2. Comparison (Relational) Operators:-\n",
        "x == y  # Equal to\n",
        "x != y  # Not equal to\n",
        "x > y   # Greater than\n",
        "x < y   # Less than\n",
        "x >= y  # Greater or equal\n",
        "x <= y  # Less or equal\n",
        "\n",
        "3. Assignment Operators:-\n",
        "x = 5\n",
        "x += 2  # Same as x = x + 2\n",
        "x *= 3  # x = x * 3\n",
        "4. Logical Operators:-\n",
        "x > 5 and y < 10\n",
        "x == 5 or y == 3\n",
        "not (x == y)\n",
        "5. Bitwise Operators:-\n",
        "x & y  # AND\n",
        "x | y  # OR\n",
        "x ^ y  # XOR\n",
        "~x     # NOT\n",
        "x << 1 # Left shift\n",
        "x >> 1 # Right shift\n",
        "6. Membership Operators:-\n",
        "'a' in 'cat'\n",
        "4 not in [1, 2, 3]\n",
        "7. Identity Operators:-\n",
        "x is y\n",
        "x is not y\n"
      ],
      "metadata": {
        "id": "3rux2zUDJuuH"
      }
    },
    {
      "cell_type": "markdown",
      "source": [
        "5.Explain the concept of type casting in Python with examples.?\n",
        "\n",
        "-->Type casting is the process of converting a value from one data type to another.\n",
        "\n",
        "In Python, this is usually done using built-in functions like:\n",
        "\n",
        "int() – convert to integer\n",
        "\n",
        "float() – convert to float\n",
        "\n",
        "str() – convert to string\n",
        "\n",
        "bool() – convert to boolean\n",
        "\n",
        "list(), tuple(), set() – convert to collection types\n",
        "\n",
        "\n",
        "\n",
        "\n",
        "\n"
      ],
      "metadata": {
        "id": "N6uB8XAgJysH"
      }
    },
    {
      "cell_type": "code",
      "source": [
        "# Example of Type casting\n",
        "\n",
        "# 1.  Converting to Integer\n",
        "x = \"10\"\n",
        "y = int(x)  # Now y is an integer\n",
        "print(y + 5)  # Output: 15\n",
        "\n",
        "# 2.Converting to Float\n",
        "num = \"3.14\"\n",
        "f = float(num)\n",
        "print(f * 2)  # Output: 6.28\n",
        "\n",
        "# 3. Converting to String\n",
        "num = 42\n",
        "s = str(num)\n",
        "print(\"The answer is \" + s)  # Output: The answer is 42\n",
        "\n",
        "# 4. Converting to Boolean\n",
        "x = 0\n",
        "y = bool(x)  # Now y is False\n",
        "print(y)\n",
        "\n",
        "# 5. Converting to List\n",
        "my_string = \"hello\"\n",
        "my_list = list(my_string)\n",
        "print(my_list)  # Output: ['h', 'e', 'l', 'l', 'o']"
      ],
      "metadata": {
        "colab": {
          "base_uri": "https://localhost:8080/"
        },
        "id": "iK95-JILyxr3",
        "outputId": "c4948b32-e9f4-4ef2-b237-940462752839"
      },
      "execution_count": 3,
      "outputs": [
        {
          "output_type": "stream",
          "name": "stdout",
          "text": [
            "15\n",
            "6.28\n",
            "The answer is 42\n",
            "False\n",
            "['h', 'e', 'l', 'l', 'o']\n"
          ]
        }
      ]
    },
    {
      "cell_type": "markdown",
      "source": [
        "6.How do conditional statements work in Python? Illustrate with examples.?\n",
        "\n",
        "--->Conditional statements in Python allow you to execute code based on certain conditions using if, elif, and else.\n",
        "** Key Points:**\n",
        "if checks the first condition.\n",
        "\n",
        "elif checks other conditions if the first is false.\n",
        "\n",
        "else runs if none of the conditions are true.\n",
        "*Syntax:*\n",
        "if condition:\n",
        "    # code block\n",
        "elif another_condition:\n",
        "    # code block\n",
        "else:\n",
        "    # code block"
      ],
      "metadata": {
        "id": "K9YHYN7LKQNC"
      }
    },
    {
      "cell_type": "code",
      "source": [
        "x = 10\n",
        "\n",
        "if x > 0:\n",
        "    print(\"Positive\")\n",
        "elif x == 0:\n",
        "    print(\"Zero\")\n",
        "else:\n",
        "    print(\"Negative\")"
      ],
      "metadata": {
        "id": "6sme8gn10bzc"
      },
      "execution_count": null,
      "outputs": []
    },
    {
      "cell_type": "markdown",
      "source": [
        "7. Describe the different types of loops in Python and their use cases with examples?\n",
        "\n",
        "--> Different Types of loops are:\n",
        "1. For Loop:-Used to iterate over a sequence (like list, tuple, string, or range).\n",
        "Use Case: When you know how many times to loop or you're looping over a collection.\n",
        "2. while Loop\n",
        "Repeats as long as a condition is True.\n",
        "Use Case: When the number of iterations isn't known in advance.\n",
        "3. Nested loop:-\n",
        "Loops inside loops (useful in matrices, pattern printing, etc.)"
      ],
      "metadata": {
        "id": "jUCfFx3HKUY4"
      }
    },
    {
      "cell_type": "code",
      "source": [
        "#for loop\n",
        "fruits = [\"apple\", \"banana\", \"cherry\"]\n",
        "for fruit in fruits:\n",
        "    print(fruit)\n",
        "# while loop\n",
        "count = 1\n",
        "while count <= 5:\n",
        "    print(count)\n",
        "    count += 1\n",
        "# nested loop\n",
        "for i in range(3):\n",
        "    for j in range(2):\n",
        "        print(f\"i={i}, j={j}\")\n"
      ],
      "metadata": {
        "id": "zcxaypKM1VHS"
      },
      "execution_count": null,
      "outputs": []
    }
  ]
}